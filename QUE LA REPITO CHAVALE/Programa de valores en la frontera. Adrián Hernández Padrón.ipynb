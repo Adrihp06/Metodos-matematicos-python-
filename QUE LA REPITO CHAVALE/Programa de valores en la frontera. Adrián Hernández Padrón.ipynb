{
 "cells": [
  {
   "cell_type": "markdown",
   "metadata": {},
   "source": [
    " <h1> ADRIÁN HERNÁNDEZ PADRÓN</h1>"
   ]
  },
  {
   "cell_type": "markdown",
   "metadata": {},
   "source": [
    "$Resolución$ $de$ $problemas$ $de$ $valores$ $en$ $la$ $frontera$\n",
    "\n",
    "Vamos a resolver el problema de valores en la frontera utilizando el método de disparo.\n",
    "\n",
    "Para ello resolveremos la siguiente ecuación:\n",
    "\n",
    "<center>$ y''(x)=f(x,y',y)$\n",
    "\n",
    "Que se encuentra sujeta a unas condiciones iniciales(de frontera):\n",
    "\n",
    "$y(a)=y_a$\n",
    "\n",
    "$y(b)=y_b$\n",
    "\n",
    "$y'(a)=s$\n",
    "\n",
    "Siendo s un valor desconocido. Buscaremos el valor de s que satisface la siguiente ecuación:\n",
    "\n",
    "<center>$Y(b,s)-y_b=0$\n",
    "\n",
    "El problema que vamos a resolver se trata del propuesto en el campus virtual: Una barra de sección pequeña unida en sus extremos a dos fuentes de temperatura constante y sin estar aislada del aire\n",
    "\n",
    "Usando la Primera Ley de Fourier para la conducción de calor en el interior de la barra y la Ley de Newton para la transferencia de calor mediante convección, podemos llegar a la siguiente expresión, que permite obtener la distribución de la temperatura a lo largo de la barra:\n",
    "\n",
    "<center>$T''(x)-\\dfrac {h·P}{k·A} \\cdot(T-T_a)=0$\n",
    "\n",
    "En donde:\n",
    "\n",
    "\n",
    "\n",
    "$P$ es el perímetro \n",
    "\n",
    "$A$ la sección transversal de la misma\n",
    "\n",
    "$T_a$ la temperatura del aire que rodea la barra\n",
    "\n",
    "$k$ es la conductividad térmica del material (en nuestro caso hierro dulce)\n",
    "\n",
    "$h$ es el coeficiente de transferencia de calor convectiva\n",
    "\n",
    "Las condiciones de contorno del problema son:\n",
    "\n",
    "<center>$T(0)=T_h$\n",
    "\n",
    "<center>$T(L)=T_c$\n",
    "\n",
    "\n"
   ]
  },
  {
   "cell_type": "code",
   "execution_count": 25,
   "metadata": {},
   "outputs": [
    {
     "data": {
      "text/plain": [
       "[<matplotlib.lines.Line2D at 0x1ff66cf57b8>]"
      ]
     },
     "execution_count": 25,
     "metadata": {},
     "output_type": "execute_result"
    },
    {
     "data": {
      "image/png": "[encoded data removed]",
      "text/plain": [
       "<Figure size 432x288 with 1 Axes>"
      ]
     },
     "metadata": {
      "needs_background": "light"
     },
     "output_type": "display_data"
    }
   ],
   "source": [
    "import numpy as np\n",
    "import matplotlib.pyplot as plt\n",
    "from pylab import*\n",
    "\n",
    "#Temperaturas que intervienen en el proceso\n",
    "Ta=273.15+20 \n",
    "Th=450\n",
    "Tc=250\n",
    "\n",
    "#Introducimos los datos de la barra y en entorno \n",
    "R=0.5 \n",
    "L=5\n",
    "P=2*(L+2*pi*R) \n",
    "A=pi*(R**2.) \n",
    "k=79.5\n",
    "h=5\n",
    "\n",
    "x=linspace(0,L,100) #Array donde dividimos la longitud de la barra\n",
    "\n",
    "def f(Tx):#Definimos la ecuación del calor\n",
    "    f=((h*P)/(k*A))*(Tx-Ta)\n",
    "    return f\n",
    "\n",
    "#Creamos los arrays vacíos donde introduciremos los valores de ambos valores\n",
    "#Los creamos de manera que tengan la forma de una matriz del ((tamaño de x)x2) para poder introducir ambas valores de las derivadas en un mismo array\n",
    "D = np.zeros(2*len(x)).reshape(len(x),2)\n",
    "T1 = np.zeros(2*len(x)).reshape(len(x),2)\n",
    "H = L/len(x) #El tamaño de cada paso\n",
    "D[0]= 3, 10 #Introducimos los valores arbitrarios escogidos para las primeras derivadas\n",
    "T1[0] = Th, Th #Introducimos la temperatura inicial\n",
    "\n",
    "#Realizamos el metodo de euler con el cual obtendremos los valores de T1(L) que son los que usaremos para el ajuste \n",
    "for i in range(0, len (x)-1):\n",
    "    T1[i+1] = T1[i] + H*D[i]\n",
    "    D[i+1] = D[i] + H*f(T1[i])\n",
    "    \n",
    "#Usamos polyfit para ajustar a un polinomio de grado uno \n",
    "#Ajusteremos los valores de las primeras derivadas en x=0 frente a las temperaturas obtenidas en x=L\n",
    "s = polyval(polyfit(T1[-1], D[0],1),Tc) #Obtenemos el valor de la primera derivada\n",
    "\n",
    "#Realizamos de nuevo el método de euler con el valor de la primera derivada obtenido(s)\n",
    "S = np.zeros(len(x))\n",
    "T = np.zeros(len(x))\n",
    "S[0] = s\n",
    "T[0] = Th\n",
    "for j in range(0, len (x)-1):\n",
    "    S[j+1] = S[j] + H*f(T[j])\n",
    "    T[j+1] = T[j] + H*S[j]\n",
    "#Con esto obtenemos el arrays de temperatura en la barra\n",
    "\n",
    "    \n",
    "#graficamos\n",
    "plt.plot(x, T , label='$y(t)$')\n"
   ]
  },
  {
   "cell_type": "markdown",
   "metadata": {},
   "source": [
    "Una vez definidas todas las constantes y la ecuación del calor, simplemente aplicamos el método de euler a los valores arbitrarios que seleccionamos y realizamos el ajuste con estos valores y los correspondientes a T2(L) para obtener así el valor inicial de la derivada. \n",
    "\n",
    "Con este valor aplicamos euler de nuevo y obtenemos el valor de la temperatura a lo largo de la barra.\n",
    "Se puede que el resultado es el mismo independientemente de los valores inicales seleccionados simplemente cambiandolos.\n",
    "También se puede ver como si cambiamos el numero en el que dividimos la longitud de la barra, la gráfica pierde precisión como se espera.\n",
    "\n",
    "Usé el método de euler por simplicidad a la hora de mostrar el código, probé haciendolo con predictor-corrector obteniendo también el mismo resultado.\n"
   ]
  },
  {
   "cell_type": "code",
   "execution_count": null,
   "metadata": {},
   "outputs": [],
   "source": []
  }
 ],
 "metadata": {
  "kernelspec": {
   "display_name": "Python 3",
   "language": "python",
   "name": "python3"
  },
  "language_info": {
   "codemirror_mode": {
    "name": "ipython",
    "version": 3
   },
   "file_extension": ".py",
   "mimetype": "text/x-python",
   "name": "python",
   "nbconvert_exporter": "python",
   "pygments_lexer": "ipython3",
   "version": "3.7.1"
  }
 },
 "nbformat": 4,
 "nbformat_minor": 2
}
