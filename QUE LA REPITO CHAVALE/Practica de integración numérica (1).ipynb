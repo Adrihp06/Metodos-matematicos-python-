{
 "cells": [
  {
   "cell_type": "markdown",
   "metadata": {},
   "source": [
    " <h1> ADRIÁN HERNÁNDEZ PADRÓN😔😂</h1"
   ]
  },
  {
   "cell_type": "markdown",
   "metadata": {},
   "source": [
    "<center>\n",
    "<h2> Integración numérica </h2>\n",
    "</center>\n",
    "\n",
    "* Método de los trapecios\n",
    "\n",
    "$\\int ^{b}_{a}f\\left( x\\right) dx \\simeq h \\cdot \\sum ^{n-1}_{i=0} \\left[  \\dfrac {f\\left( x_{n}\\right) +f\\left( x_{n+1}\\right) }{2} \\right]$\n",
    "\n",
    "\n",
    "Nuestra función está acotada en un intervalo $[a,b]$, divida en n subintervalos.\n",
    "Para el error cometido usaremos la siguiente expresión:\n",
    "\n",
    "$ {E_T} = -\\dfrac {1}{12} \\cdot {h^3} \\cdot f^{II}(k) $\n",
    "\n",
    "Donde $𝑘$ es un valor perteneciente al intervalo $[𝑎,𝑏]$. Dicho valor será el valor en el que la segunda derivada será máxima.\n",
    "\n",
    "h viene dado por la siguiente expresión:\n",
    "$h=\\dfrac{b-a}{n}$\n",
    "\n"
   ]
  },
  {
   "cell_type": "code",
   "execution_count": 56,
   "metadata": {},
   "outputs": [
    {
     "name": "stdout",
     "output_type": "stream",
     "text": [
      "La integral en el intervalo [1,4],Tiene un valor: -3.2299\n",
      "Numero de intervalos en los que hemos dividido nuestra función:117\n"
     ]
    }
   ],
   "source": [
    "from sympy import *\n",
    "import numpy as np\n",
    "\n",
    "x = symbols('x')\n",
    "def p(x): #definimos la funcion que vamos a integrar y su segunda derivada\n",
    "    p = sin(x)*exp(x)\n",
    "    return p\n",
    "def p2(x2):\n",
    "    p2 = diff(p(x), x, 2).subs(x,x2) \n",
    "    return p2\n",
    "\n",
    "a = 1 #limites de integración\n",
    "b = 4\n",
    "f = [] #array vacio donde vamos a añadir los valores de la segunda derivada para el calculo del error\n",
    "eta = np.linspace(a, b, 1000) \n",
    "\n",
    "for i in eta:\n",
    "    f.append(abs(p2(i))) #meto el valor absoluto de la derivada para saber cual va a ser el error maximo\n",
    "maximo = np.max(f)    \n",
    "#Procedemos a calcular el error\n",
    "for n in range(1, len(eta) + 1): #quiero ayudarme del error para obtener asi el numero de subintervalos\n",
    "    h = (b - a)/n\n",
    "    error = abs(-1/12*(h**3)*maximo) #para ello meto la formula del error en un bucle\n",
    "    if error == 0:\n",
    "        N = 20\n",
    "    elif error > 0.0001: #y que cuando llegue a x cifra decimal me de el error y el numero de subintervalos\n",
    "        errorn = error\n",
    "        N = n\n",
    "\n",
    "area = 0\n",
    "H = (b - a)/N\n",
    "for i in range(N): #defino el metodo del trapecio y calculo el valor de la integral\n",
    "    area += (p(a) + p(a + H))*H/2\n",
    "    a = a + H\n",
    "\n",
    "print ('La integral en el intervalo [%.f,%.f],''Tiene un valor: %.5g'%(-H*N+b, b, area))\n",
    "print ('Numero de intervalos en los que hemos dividido nuestra función:%.d' % N)\n"
   ]
  },
  {
   "cell_type": "markdown",
   "metadata": {},
   "source": [
    "* Método de Simpson $1/3$\n",
    "\n",
    "Al igual que con el metodo de los trapecios, la regla de simpson nos calcula la integral en un intervalo $[a,b]$ dividiendolo en n subintervalos.\n",
    "\n",
    "$\\int ^{b}_{a}f\\left( x\\right) dx \\simeq h\\cdot \\sum ^{n-1}_{i=0} \\left[ \\dfrac {f\\left( x_{n}\\right) +f\\left( x_{n+1}\\right) + 4f\\left( \\dfrac {x_{n}+x_{n+1}}{2}\\right)}{6} \\right]$\n",
    "\n",
    "En donde se vuelve a tener:\n",
    "\n",
    "$ h= \\dfrac {b-a}{n}$ \n",
    "\n",
    "El erro esta vez viene dado por la siguiente expresión:\n",
    "\n",
    "$ {E_S} = -\\dfrac {1}{90} \\cdot \\left( \\dfrac{h}{2} \\right)^5 \\cdot f^{IV}(l) $\n",
    "\n",
    "Al igual que con el trapecio, cogeremos el punto donde la derivada sea máxima\n",
    "\n"
   ]
  },
  {
   "cell_type": "code",
   "execution_count": 55,
   "metadata": {},
   "outputs": [
    {
     "name": "stdout",
     "output_type": "stream",
     "text": [
      "La integral en el intervalo [1,4],Tiene un valor: -3.2255\n",
      "Numero de intervalos en los que hemos dividido nuestra función:21\n"
     ]
    }
   ],
   "source": [
    "from sympy import *\n",
    "import numpy as np\n",
    "\n",
    "#El metodo que use para el metodo de simpson es practicamente igual que el anterior\n",
    "#Defino la funcion y su derivada, trabajo con el error de la misma manera para asi obtener el numero de subintervalos\n",
    "#Realizo el sumatorio que me realiza el metodo\n",
    "\n",
    "y = symbols('y')\n",
    "def s(y): #definimos la funcion que vamos a integrar y su derivada\n",
    "    s = sin(y)*exp(y)\n",
    "    return s\n",
    "def ss(y2):\n",
    "    ss = diff(s(y), y, 4).subs(y,y2) \n",
    "    return ss\n",
    "c = 1 #limites de integracion\n",
    "d = 4\n",
    "et = np.linspace(c, d, 1000)\n",
    "g = [] #array vacio donde meto el valor de la 4a derivada\n",
    "\n",
    "J = 0\n",
    "for i in et:\n",
    "    g.append(abs(ss(i)))\n",
    "maximo = np.max(g)\n",
    "for j in range(1, len(et) + 1): #error \n",
    "    h2 = (d - c)/j\n",
    "    error2 = abs(-1./90.*(h2**5.)*maximo)\n",
    "    if error2 == 0:#por si la derivada 4 de la funcion es 0, y por ello el error, puse un numero J \n",
    "        J = 18\n",
    "    elif error2 > 0.0001: #obtengo el numero de subintervalos\n",
    "        errorn2 = error2\n",
    "        J = j\n",
    "\n",
    "       \n",
    "area2 = 0\n",
    "H2 = (d - c)/ J\n",
    "\n",
    "for i in range(J): #defino el metodo de simpson para calcular el valor de la integral\n",
    "    area2 += H2*(s(c+i*H2)+s(c+(i+1)*H2)+4.*s(((c+i*H2)+(c+(i+1)*H2))/2.))/6.\n",
    "TS3 = time()    \n",
    "print ('La integral en el intervalo [%.f,%.f],''Tiene un valor: %.5g'%(-H2*J+d, d, area2))\n",
    "print ('Numero de intervalos en los que hemos dividido nuestra función:%.d' % J)\n"
   ]
  },
  {
   "cell_type": "markdown",
   "metadata": {},
   "source": [
    "* Regla trapezoidal compuesta\n",
    "\n",
    "Segun la regla trapezoidal compuesta, el valor de la integral en el intervalo $[a,b]$ viene dado por la expresión:\n",
    "\n",
    "${\\displaystyle \\int _{a}^{b}f(x)\\,dx\\simeq {\\frac {h}{2}}[f(a)+2f(a+h)+2f(a+2h)+...+f(b)]}$\n",
    "\n",
    "Donde $h$ vale:\n",
    "\n",
    "$ h= \\dfrac {b-a}{n}$ \n",
    "\n",
    "El error en este metodo lo obtendremos por la siguiente expresión:\n",
    "\n",
    "\n",
    "$ {E_T} = -\\dfrac {h^2(b -a)}{12} \\cdot f^{II}(k) $\n",
    "\n"
   ]
  },
  {
   "cell_type": "code",
   "execution_count": 58,
   "metadata": {},
   "outputs": [
    {
     "name": "stdout",
     "output_type": "stream",
     "text": [
      "La integral en el intervalo [1,4],Tiene un valor: -3.1279\n",
      "Numero de intervalos en los que hemos dividido nuestra función:1270\n"
     ]
    }
   ],
   "source": [
    "from sympy import *\n",
    "import numpy as np\n",
    "from time import time\n",
    "#El metodo utilizado para la regla trapezoidal compuesta similar a los anteriores\n",
    "#Defino la funcion y su derivada, trabajo con el error de la misma manera para asi obtener el numero de subintervalos\n",
    "#Realizo el sumatorio que me realiza el metodo\n",
    "\n",
    "\n",
    "z = symbols('z')\n",
    "def t(z): #definimos la funcion que vamos a integrar y su derivada\n",
    "    t = exp(z)*sin(z)\n",
    "    return t\n",
    "def tt(z2):\n",
    "    tt = diff(t(z), z, 2).subs(z,z2) \n",
    "    return tt\n",
    "e = 1\n",
    "f = 4\n",
    "et2 = np.linspace(e, f, 2000)\n",
    "o = []\n",
    "\n",
    "TS0 = time()\n",
    "for i in et2:\n",
    "    o.append(abs(tt(i))) \n",
    "maximo2 = np.max(o) #valor maximo de la derivada para calcular el error\n",
    "for j in range(1, len(et2) + 1):\n",
    "        error3 = abs((-(f - e)**3)*maximo2/(12.*j**2)) #calculo el error y obtengo el numero de subintervalso\n",
    "        if error == 0:\n",
    "            N2 = 20\n",
    "        elif error3 > 0.0001:\n",
    "            errorn3 = error3\n",
    "            N2 = j\n",
    "\n",
    "e1 = e\n",
    "h3 = (f - e)/N2\n",
    "suma3 = 0\n",
    "for i in range(N2):#hago un sumatorio que me coge todos los f(n)\n",
    "    suma3 += (t(e1))\n",
    "    e1 += h3\n",
    "#multiplico por h y le resto la mitad de f en a,b para obtener la formula\n",
    "integral = (h3)*(-t(e)/2+suma3-t(f)/2)#.evalf() \n",
    "#el .evalf() lo introduzco porque para ciertas funciones como coseno o exponenciales\n",
    "#el programa no me simplificaba la expresión sino que me la dejaba como cos(2)\n",
    "TS1 = time()\n",
    "    \n",
    "print ('La integral en el intervalo [%.f,%.f],''Tiene un valor: %.5g'%(-h3*N2+f, f, integral))\n",
    "print ('Numero de intervalos en los que hemos dividido nuestra función:%.d' % N2)\n"
   ]
  },
  {
   "cell_type": "markdown",
   "metadata": {},
   "source": [
    "* Método de Romberg\n",
    "\n",
    "Es una optimización de la regla trapezoidal compuesta. El valor de la integral viene dado por la expresión:\n",
    "\n",
    "\n",
    "Calcule unicamente la primera extrapolación del metodo de Romberg, correspondiente a aplicar la regla trapezoidal compuesta para n particiones y 2n particiones.\n",
    "\n",
    "$\\int ^{b}_{a}f\\left( x\\right) dx \\simeq \\dfrac {4 I_{(2n)}-I_{(n)}}{3} $\n",
    "\n",
    "El error en este caso, viene dado por $h^4$"
   ]
  },
  {
   "cell_type": "code",
   "execution_count": 59,
   "metadata": {},
   "outputs": [
    {
     "name": "stdout",
     "output_type": "stream",
     "text": [
      "La integral en el intervalo [1,4],Tiene un valor: -3.1929\n",
      "Numero de intervalos en los que hemos dividido nuestra función:1270\n",
      "El error es: 3.113652455e-11\n"
     ]
    }
   ],
   "source": [
    "from sympy import *\n",
    "import numpy as np\n",
    "from time import time\n",
    "#Puesto que realice este metodo para ver como se optimizaba con respecto a la regla trap. compuesta\n",
    "#El numero de subintervalos (N2) será el mismo que en el caso anterior\n",
    "\n",
    "z = symbols('z')\n",
    "def t(z): #definimos la funcion que vamos a integrar\n",
    "    t = exp(z)*sin(z)\n",
    "    return t\n",
    "\n",
    "e = 1\n",
    "f = 4\n",
    "et3= np.linspace(e, f, 500)\n",
    "\n",
    "#\n",
    "hn = (f - e)/N2\n",
    "h2n = (f - e)/(2*N2)\n",
    "\n",
    "TS6 = time()\n",
    "e1 = e\n",
    "suma4 = 0\n",
    "inte = 0\n",
    "\n",
    "for i in range(N2):#realizo la regla trap. compuesta para h\n",
    "    suma4 += (t(e1))\n",
    "    e1 = e1 + hn\n",
    "inte = (hn)*(-t(e)/2.+suma4-t(f)/2.)#.evalf()\n",
    "\n",
    "e2 = e\n",
    "inte2 = 0\n",
    "suma5 = 0\n",
    "for j in range(2*N2):#realizo la regla trap. compuesta para 2h\n",
    "    suma5 += (t(e2))\n",
    "    e2 = e2 + h2n\n",
    "inte2 = (h2n)*(-t(e)/2.+suma5-t(f)/2.)#.evalf()\n",
    "\n",
    "Integral = (4.*inte2-inte)/3.\n",
    "error4 = hn**4               \n",
    "TS7 = time()              \n",
    "           \n",
    "print ('La integral en el intervalo [%.f,%.f],''Tiene un valor: %.5g'%(-hn*N2+f, f, Integral))\n",
    "print ('Numero de intervalos en los que hemos dividido nuestra función:%.d' % N2)\n",
    "print ('El error es: %.10g'%(error4))"
   ]
  },
  {
   "cell_type": "markdown",
   "metadata": {},
   "source": [
    "Vemos que los 4 metodos dan resultados similares, aproximados al valor real de la integral.\n",
    "\n",
    "En cuanto a los subintervalos el metodo de simpson parece el más óptimo ya que con menos intervalos da una aproximación mas acertada del resultado, tambien comprobé importando time() que era el que mas rápido hacia las iteraciones, me parecio prescindible puesto que con el numero de intervalos se podia explicar.\n",
    "\n",
    "En cuanto al metodo de romberg, decidi realizar priemro la regla trapezoidal compuesta puesto que el metodo de romberg es una optimización de este y así observar como se comportaban ambos metodos con diferentes funciones. En efecto, se comprobaba que el metodo de romberg era mas preciso.\n",
    "\n",
    "Como conclusión se ve que el metodo de simpson es el mas optimo de los 4."
   ]
  },
  {
   "cell_type": "code",
   "execution_count": 53,
   "metadata": {},
   "outputs": [
    {
     "name": "stdout",
     "output_type": "stream",
     "text": [
      "La integral por el metodo del trapecio tiene un valor: -3.2299\n",
      "La integral en el intervalo por el metodo de simpson tiene un valor: -3.2255\n",
      "La integral en el intervalo por el metodo del trapecio compuesto tiene un valor: -3.1016\n",
      "La integral en el intervalo por el metodo de romberg tiene un valor: -3.1842\n"
     ]
    }
   ],
   "source": [
    "print ('La integral por el metodo del trapecio tiene un valor: %.5g'%(area))\n",
    "print ('La integral en el intervalo por el metodo de simpson tiene un valor: %.5g'%(area2))\n",
    "print ('La integral en el intervalo por el metodo del trapecio compuesto tiene un valor: %.5g'%(integral))\n",
    "print ('La integral en el intervalo por el metodo de romberg tiene un valor: %.5g'%(Integral))"
   ]
  }
 ],
 "metadata": {
  "kernelspec": {
   "display_name": "Python 3",
   "language": "python",
   "name": "python3"
  },
  "language_info": {
   "codemirror_mode": {
    "name": "ipython",
    "version": 3
   },
   "file_extension": ".py",
   "mimetype": "text/x-python",
   "name": "python",
   "nbconvert_exporter": "python",
   "pygments_lexer": "ipython3",
   "version": "3.7.1"
  }
 },
 "nbformat": 4,
 "nbformat_minor": 2
}
